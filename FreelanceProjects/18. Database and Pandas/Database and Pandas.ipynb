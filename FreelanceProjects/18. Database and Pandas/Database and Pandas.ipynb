{
 "cells": [
  {
   "cell_type": "markdown",
   "metadata": {
    "id": "pXv5kGKkCSZz"
   },
   "source": [
    "### **Part 1: Database query**\n",
    "\n",
    "An sqlite database called ***arabidopsis.sqlite*** has been provided.\n",
    "\n",
    "**Q1.** How many tables does the database contain and what are their names?\n",
    "\n",
    "**Q2.** In the **geneannotation** table there are two fields, **genename** and **annotation**. The annotation is a long description of the function of the gene. Write a function called **keyword_search** that takes one argument, a keyword, which can be a word or phrase. The function should search the annotation table and **return pandas dataframe** that **contains only the genenames and their annotation**.\n",
    "\n",
    "\n",
    "\n",
    "***hint*** Use like to look for the keyword in annotation. An example is provided here:\n",
    "https://docs.sqlalchemy.org/en/13/core/tutorial.html#conjunctions\n",
    "\n",
    "***hint*** If I search for the term “nitrate transporter”, I should get 17 matches.\n",
    "\n",
    "**hint** In Brightspace there is a document called SQLite_Pandas, written by a former TA, which demonstrates how to save the results of a database query to a pandas dataframe.\n"
   ]
  },
  {
   "cell_type": "code",
   "execution_count": 1,
   "metadata": {
    "id": "YKYZEeRT_thf"
   },
   "outputs": [],
   "source": [
    "# to install sqlalchemy: pip install SQLAlchemy\n",
    "import sqlalchemy\n",
    "import pandas as pd"
   ]
  },
  {
   "cell_type": "markdown",
   "metadata": {},
   "source": [
    "## Q1"
   ]
  },
  {
   "cell_type": "code",
   "execution_count": 2,
   "metadata": {},
   "outputs": [],
   "source": [
    "# create engine for the provided sqlite database\n",
    "arabidopsis = sqlalchemy.create_engine('sqlite:///arabidopsis.sqlite')"
   ]
  },
  {
   "cell_type": "code",
   "execution_count": 3,
   "metadata": {},
   "outputs": [
    {
     "name": "stdout",
     "output_type": "stream",
     "text": [
      "The database contains 2 tables and their names are ['geneannotation', 'genecoors'].\n"
     ]
    }
   ],
   "source": [
    "# find out the total tables in database\n",
    "tables = arabidopsis.table_names()\n",
    "print(f\"The database contains {len(tables)} tables and their names are {tables}.\")"
   ]
  },
  {
   "cell_type": "markdown",
   "metadata": {},
   "source": [
    "## Q2"
   ]
  },
  {
   "cell_type": "code",
   "execution_count": 4,
   "metadata": {},
   "outputs": [],
   "source": [
    "# create dataframe for the sqlite database\n",
    "gene_annotation = pd.read_sql(\"select * from geneannotation\", arabidopsis)"
   ]
  },
  {
   "cell_type": "code",
   "execution_count": 5,
   "metadata": {},
   "outputs": [],
   "source": [
    "# keyword_search function to search query\n",
    "def keyword_search(keyword):\n",
    "    df = gene_annotation[gene_annotation.apply(lambda x: x.astype(str).str.contains(keyword).any(), axis=1)]\n",
    "    print(f\"Total {len(df)} matches found.\\n{df}\")"
   ]
  },
  {
   "cell_type": "code",
   "execution_count": 6,
   "metadata": {},
   "outputs": [
    {
     "name": "stdout",
     "output_type": "stream",
     "text": [
      "Total 16 matches found.\n",
      "        genename                                         annotation\n",
      "806    AT1G08090  nitrate transporter 2:1High-affinity nitrate t...\n",
      "807    AT1G08100  nitrate transporter 2.2Encodes a high-affinity...\n",
      "1279   AT1G12110  nitrate transporter 1.1Encodes NRT1.1 (CHL1), ...\n",
      "1379   AT1G12940  nitrate transporter2.5member of High affinity ...\n",
      "2912   AT1G27080  nitrate transporter 1.6Encodes a protein with ...\n",
      "3543   AT1G32450  nitrate transporter 1.5Transmembrane nitrate t...\n",
      "7219   AT1G69850  nitrate transporter 1:2Encodes an inducible co...\n",
      "7221   AT1G69870  nitrate transporter 1.7Encodes a low affinity ...\n",
      "8560   AT2G02040  peptide transporter 2Encodes a di- and tri-pep...\n",
      "18526  AT3G45060  high affinity nitrate transporter 2.6member of...\n",
      "22775  AT4G14358  FUNCTIONS IN: molecular_function unknown; INVO...\n",
      "23681  AT4G21680  NITRATE TRANSPORTER 1.8Encodes a nitrate trans...\n",
      "27263  AT5G14570  high affinity nitrate transporter 2.7Encodes A...\n",
      "31333  AT5G50200  nitrate transmembrane transportersWound-respon...\n",
      "32543  AT5G60770  nitrate transporter 2.4member of High affinity...\n",
      "32544  AT5G60780  nitrate transporter 2.3member of High affinity...\n"
     ]
    }
   ],
   "source": [
    "# calling the keyword_search with search query 'nitrate transporter'\n",
    "keyword_search(\"nitrate transporter\")"
   ]
  },
  {
   "cell_type": "code",
   "execution_count": null,
   "metadata": {},
   "outputs": [],
   "source": []
  },
  {
   "cell_type": "markdown",
   "metadata": {
    "id": "rmPhpvvAGpTs"
   },
   "source": [
    "### **Part 2: Command line interface**\n",
    "\n",
    "Now make this script that can be executed from command line. Call it **gene_query.py**.\n",
    "\n",
    "**a)** Use the argparse module to add a ‘query’ argument which can be specified using \n",
    "-q or --query.\n",
    "\n",
    "**b)** The query argument should be passed to the keyword_search function you created in Part 1.\n",
    "\n",
    "**c)** The script should print the results dataframe.\n",
    "\n",
    "**test query**\n",
    "\n",
    "python gene_query.py -q \"Superman\"\n",
    "\n",
    "**result should be**\n",
    "\n",
    "AT5G06070 C2H2 and C2HC zinc fingers superfamily proteinIsolated as a mutation defective in petal development with specific effects on  adaxial petals which  are filamentous or absent. Encodes a Superman (SUP) like protein with zinc finger motifs. Transcript is detected in petal primordia and protein is localized to the nucleus.\n",
    "\n",
    "\n",
    "\n",
    "\n",
    "\n",
    "\n"
   ]
  },
  {
   "cell_type": "code",
   "execution_count": 7,
   "metadata": {},
   "outputs": [
    {
     "name": "stdout",
     "output_type": "stream",
     "text": [
      "AT5G06070 C2H2 and C2HC zinc fingers superfamily proteinIsolated as a mutation defective in petal development with specific effects on  adaxial petals which  are filamentous or absent. Encodes a Superman (SUP) like protein with zinc finger motifs. Transcript is detected in petal primordia and protein is localized to the nucleus.\r\n"
     ]
    }
   ],
   "source": [
    "# run the gene_query.py file with search query 'Superman'\n",
    "!python gene_query.py --query \"Superman\""
   ]
  },
  {
   "cell_type": "code",
   "execution_count": null,
   "metadata": {},
   "outputs": [],
   "source": []
  }
 ],
 "metadata": {
  "colab": {
   "collapsed_sections": [],
   "name": "HW6-Db-pd.ipynb",
   "provenance": []
  },
  "kernelspec": {
   "display_name": "Python 3 (ipykernel)",
   "language": "python",
   "name": "python3"
  },
  "language_info": {
   "codemirror_mode": {
    "name": "ipython",
    "version": 3
   },
   "file_extension": ".py",
   "mimetype": "text/x-python",
   "name": "python",
   "nbconvert_exporter": "python",
   "pygments_lexer": "ipython3",
   "version": "3.12.7"
  }
 },
 "nbformat": 4,
 "nbformat_minor": 4
}

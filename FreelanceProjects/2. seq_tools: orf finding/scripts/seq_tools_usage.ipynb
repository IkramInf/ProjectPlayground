{
 "cells": [
  {
   "cell_type": "markdown",
   "metadata": {},
   "source": [
    "# Part 1"
   ]
  },
  {
   "cell_type": "code",
   "execution_count": 1,
   "metadata": {},
   "outputs": [],
   "source": [
    "import re"
   ]
  },
  {
   "cell_type": "code",
   "execution_count": 2,
   "metadata": {},
   "outputs": [],
   "source": [
    "# creating a class named 'Sequence' to store a sequence\n",
    "class Sequence:\n",
    "    def __init__(self, seq): # seq is an attribute of Sequence class\n",
    "        self.seq = seq\n",
    "\n",
    "    # get_orf is a method to return largest orf as a protein sequence\n",
    "    def get_orf(self):\n",
    "        \n",
    "        seq = self.seq\n",
    "        \n",
    "        # complement the sequence and then reverse complement it\n",
    "        complement_pair = {'A': 'T', 'C': 'G', 'G': 'C', 'T': 'A'}\n",
    "        complement_seq = \"\".join(complement_pair.get(base) for base in seq)\n",
    "        reverse_complement_seq = complement_seq[::-1]\n",
    "    \n",
    "        # this pattern will search for orfs with start and stop codon using regular expression\n",
    "        pattern = \"ATG.*?(?:TGA|TAA|TAG)\"\n",
    "        extracted1 = re.findall(pattern, seq) # for 5'-->3' sequence\n",
    "        extracted2 = re.findall(pattern, reverse_complement_seq) # for 3'-->5' sequence\n",
    "        extracted_seq = list(set(extracted1).union(set(extracted2))) # concatenating 2 extracted orfs\n",
    "        print(extracted_seq)\n",
    "        \n",
    "        # \"codon : amino acid\" pair table for translation\n",
    "        table = {\n",
    "                'ATA':'I', 'ATC':'I', 'ATT':'I', 'ATG':'M',\n",
    "                'ACA':'T', 'ACC':'T', 'ACG':'T', 'ACT':'T',\n",
    "                'AAC':'N', 'AAT':'N', 'AAA':'K', 'AAG':'K',\n",
    "                'AGC':'S', 'AGT':'S', 'AGA':'R', 'AGG':'R',                 \n",
    "                'CTA':'L', 'CTC':'L', 'CTG':'L', 'CTT':'L',\n",
    "                'CCA':'P', 'CCC':'P', 'CCG':'P', 'CCT':'P',\n",
    "                'CAC':'H', 'CAT':'H', 'CAA':'Q', 'CAG':'Q',\n",
    "                'CGA':'R', 'CGC':'R', 'CGG':'R', 'CGT':'R',\n",
    "                'GTA':'V', 'GTC':'V', 'GTG':'V', 'GTT':'V',\n",
    "                'GCA':'A', 'GCC':'A', 'GCG':'A', 'GCT':'A',\n",
    "                'GAC':'D', 'GAT':'D', 'GAA':'E', 'GAG':'E',\n",
    "                'GGA':'G', 'GGC':'G', 'GGG':'G', 'GGT':'G',\n",
    "                'TCA':'S', 'TCC':'S', 'TCG':'S', 'TCT':'S',\n",
    "                'TTC':'F', 'TTT':'F', 'TTA':'L', 'TTG':'L',\n",
    "                'TAC':'Y', 'TAT':'Y', 'TAA':'*', 'TAG':'*',\n",
    "                'TGC':'C', 'TGT':'C', 'TGA':'*', 'TGG':'W',\n",
    "                }\n",
    "        \n",
    "        if extracted_seq:\n",
    "            maximum_orf = max(extracted_seq, key = len) # finding out largest orfs\n",
    "\n",
    "            # prepare sequence for translation\n",
    "            index = 3 * (len(maximum_orf) // 3)\n",
    "            sequence = maximum_orf[0:index]\n",
    "\n",
    "            # translate the sequence into protein\n",
    "            protein = \"\".join([table[sequence[i:i + 3]] for i in range(0, len(sequence), 3)])\n",
    "            print(protein)\n",
    "        else:\n",
    "            print(\"No orf is found in the given sequence!!!\")"
   ]
  },
  {
   "cell_type": "code",
   "execution_count": 3,
   "metadata": {},
   "outputs": [
    {
     "name": "stdout",
     "output_type": "stream",
     "text": [
      "['ATGGGGGGCCCCCTTTTTTTAA', 'ATGTTAA']\n",
      "MGGPLFL\n"
     ]
    }
   ],
   "source": [
    "myseq = Sequence(\"TTAAATGGGGGGCCCCCTTTTTTTAACAT\")\n",
    "myseq.get_orf()"
   ]
  },
  {
   "cell_type": "code",
   "execution_count": null,
   "metadata": {},
   "outputs": [],
   "source": []
  },
  {
   "cell_type": "markdown",
   "metadata": {},
   "source": [
    "# Part 2"
   ]
  },
  {
   "cell_type": "code",
   "execution_count": 4,
   "metadata": {},
   "outputs": [],
   "source": [
    "from Bio import SeqIO\n",
    "from Bio.Seq import Seq"
   ]
  },
  {
   "cell_type": "code",
   "execution_count": 5,
   "metadata": {},
   "outputs": [],
   "source": [
    "class Sequence:\n",
    "    def __init__(self, seq):\n",
    "        self.seq = seq\n",
    "\n",
    "    def get_orf(self):\n",
    "        \n",
    "        seq = self.seq\n",
    "        \n",
    "        reverse_complement_seq = str(Seq(seq).reverse_complement())\n",
    "    \n",
    "        pattern = \"ATG.*?(?:TGA|TAA|TAG)\"\n",
    "        extracted1 = re.findall(pattern, seq)\n",
    "        extracted2 = re.findall(pattern, reverse_complement_seq)\n",
    "        extracted_seq = list(set(extracted1).union(set(extracted2)))\n",
    "        print(extracted_seq)\n",
    "       \n",
    "        l = [len(orf) for orf in extracted_seq]\n",
    "        maximum_orf = extracted_seq[l.index(max(l))]\n",
    "        \n",
    "        protein = Seq(maximum_orf).translate()\n",
    "        print(protein)"
   ]
  },
  {
   "cell_type": "code",
   "execution_count": 6,
   "metadata": {},
   "outputs": [
    {
     "name": "stdout",
     "output_type": "stream",
     "text": [
      "['ATGGGGGGCCCCCTTTTTTTAA', 'ATGTTAA']\n",
      "MGGPLFL\n"
     ]
    },
    {
     "name": "stderr",
     "output_type": "stream",
     "text": [
      "/home/ikraminf/anaconda3/lib/python3.7/site-packages/Bio/Seq.py:2742: BiopythonWarning: Partial codon, len(sequence) not a multiple of three. Explicitly trim the sequence or add trailing N before translation. This may become an error in future.\n",
      "  BiopythonWarning,\n"
     ]
    }
   ],
   "source": [
    "myseq = Sequence(\"TTAAATGGGGGGCCCCCTTTTTTTAACAT\")\n",
    "myseq.get_orf()"
   ]
  },
  {
   "cell_type": "markdown",
   "metadata": {},
   "source": [
    "# Importing own seq_tools module"
   ]
  },
  {
   "cell_type": "code",
   "execution_count": 7,
   "metadata": {},
   "outputs": [
    {
     "name": "stdout",
     "output_type": "stream",
     "text": [
      "['CCTGCGGAAGATCGGCACTAGAATAGCCAGAACCGTTTCTCTGAGGCTTCCGGCCTTCCCTCCCACTAATAATTCTGAGG', 'CCATCGGTAGCGCATCCTTAGTCCAATTAAGTCCCTATCCAGGCGCTCCGCCGAAGGTCTATATCCATTTGTCAGCAGACACGC', 'CCACCCTCGTGGTATGGCTAGGCATTCAGGAACCGGAGAACGCTTCAGACCAGCCCGGACTGGGAACCTGCGGGCAGTAGGTGGAAT']\n",
      "No orf is found in the given sequence!!!\n",
      "MDI\n",
      "MA\n"
     ]
    }
   ],
   "source": [
    "#import your module\n",
    "import seq_tools\n",
    "\n",
    "# load the sequence from file and store it as a list of sequences.\n",
    "seqlist = seq_tools.load_fasta(\"example.fasta\")\n",
    "print(seqlist)\n",
    "\n",
    "# for each sequence, create the object\n",
    "for i in range(len(seqlist)):\n",
    "    myseq = seq_tools.Sequence(seqlist[i])\n",
    "    # get the largest ORF\n",
    "    myseq.get_orf()"
   ]
  },
  {
   "cell_type": "code",
   "execution_count": null,
   "metadata": {},
   "outputs": [],
   "source": []
  }
 ],
 "metadata": {
  "kernelspec": {
   "display_name": "Python 3 (ipykernel)",
   "language": "python",
   "name": "python3"
  },
  "language_info": {
   "codemirror_mode": {
    "name": "ipython",
    "version": 3
   },
   "file_extension": ".py",
   "mimetype": "text/x-python",
   "name": "python",
   "nbconvert_exporter": "python",
   "pygments_lexer": "ipython3",
   "version": "3.12.7"
  }
 },
 "nbformat": 4,
 "nbformat_minor": 4
}

{
 "cells": [
  {
   "cell_type": "markdown",
   "metadata": {},
   "source": [
    "# Part 1"
   ]
  },
  {
   "cell_type": "markdown",
   "metadata": {},
   "source": [
    "## 1. List comprehension"
   ]
  },
  {
   "cell_type": "code",
   "execution_count": 1,
   "metadata": {},
   "outputs": [],
   "source": [
    "# list comprehension to square even numbers\n",
    "results = [i**2 for i in range(10) if (i % 2 == 0)]"
   ]
  },
  {
   "cell_type": "markdown",
   "metadata": {},
   "source": [
    "## 2. Python data"
   ]
  },
  {
   "cell_type": "code",
   "execution_count": 2,
   "metadata": {},
   "outputs": [],
   "source": [
    "# create a matrix of 6 columns and 4 rows using list\n",
    "matrix = [[1, 2, 3, 4, 5, 6],\n",
    "          [11, 12, 13, 14, 15, 16],\n",
    "          [21, 22, 23, 24, 25, 26],\n",
    "          [31, 32, 33, 34, 35, 36]]"
   ]
  },
  {
   "cell_type": "code",
   "execution_count": 3,
   "metadata": {},
   "outputs": [
    {
     "name": "stdout",
     "output_type": "stream",
     "text": [
      "Value in row 2, column 4: 14\n",
      "All values in row 3: [21, 22, 23, 24, 25, 26]\n",
      "All values in column 2: [2, 12, 22, 32]\n"
     ]
    }
   ],
   "source": [
    "# value in row 2, column 4\n",
    "print(\"Value in row 2, column 4:\", matrix[1][3])\n",
    "\n",
    "# all values in row 3\n",
    "print(\"All values in row 3:\", matrix[2][:])\n",
    "\n",
    "# all values in column 2\n",
    "print(\"All values in column 2:\", [element[1] for element in matrix])"
   ]
  },
  {
   "cell_type": "code",
   "execution_count": 4,
   "metadata": {},
   "outputs": [],
   "source": [
    "# create a matrix of 6 columns and 4 rows using dictionary\n",
    "dict_matrix = {'r1' : {'a':1, 'b':2, 'c':3, 'd':4, 'e':5, 'f':6},\n",
    "               'r2' : {'g':11, 'h':12, 'i':13, 'j':14, 'k':15, 'l':16},\n",
    "               'r3' : {'m':21, 'n':22, 'o':23, 'p':24, 'q':25, 'r':26},\n",
    "               'r4' : {'s':31, 't':32, 'u':33, 'v':34, 'w':35, 'x':36}}"
   ]
  },
  {
   "cell_type": "code",
   "execution_count": 5,
   "metadata": {},
   "outputs": [
    {
     "name": "stdout",
     "output_type": "stream",
     "text": [
      "Value in row 2, column 4: 14\n",
      "All values in row 3: [21, 22, 23, 24, 25, 26]\n",
      "All values in column 2: [2, 12, 22, 32]\n"
     ]
    }
   ],
   "source": [
    "# value in row 2, column 4\n",
    "#print(\"Value in row 2, column 4:\", dict_matrix['r2']['j'])\n",
    "print(\"Value in row 2, column 4:\", list(dict_matrix[list(dict_matrix.keys())[1]].values())[3])\n",
    "\n",
    "\n",
    "# all values in row 3\n",
    "#print(\"All values in row 3:\", dict_matrix['r3'].values())\n",
    "print(\"All values in row 3:\", list(dict_matrix[list(dict_matrix.keys())[2]].values()))\n",
    "\n",
    "\n",
    "# all values in column 2\n",
    "print(\"All values in column 2:\", [list(dict_matrix[r].values())[1] for r in dict_matrix.keys()])"
   ]
  },
  {
   "cell_type": "markdown",
   "metadata": {},
   "source": [
    "## 3. Writing functions"
   ]
  },
  {
   "cell_type": "code",
   "execution_count": 6,
   "metadata": {},
   "outputs": [],
   "source": [
    "# create a function named validateMatrix to confirm the size and the values of same type\n",
    "def validateMatrix(matrix, ncol=6, nrow=4, num=True):\n",
    "    # assign row and column value of the given matrix\n",
    "    row, col = len(matrix), len(matrix[0])\n",
    "\n",
    "    # check the size\n",
    "    if row == nrow and col == ncol:  \n",
    "        print(\"Matrix size is OK.\")\n",
    "    else:\n",
    "        print(\"Matrix size is not OK.\")\n",
    "\n",
    "    # check the type of all values\n",
    "    # if all values are numbers, all() will return True\n",
    "    if all([isinstance(c, (int, float)) for r in matrix for c in r]) == num:\n",
    "        print(\"All Matrix values are numeric.\")\n",
    "    # if all values are characters, all() will return True\n",
    "    elif all([isinstance(c, str) for r in matrix for c in r]):\n",
    "        print(\"All Matrix values are characters.\")\n",
    "    else:\n",
    "        print(\"Matrix contains different types of values.\")"
   ]
  },
  {
   "cell_type": "code",
   "execution_count": 7,
   "metadata": {},
   "outputs": [
    {
     "name": "stdout",
     "output_type": "stream",
     "text": [
      "Matrix size is OK.\n",
      "All Matrix values are numeric.\n"
     ]
    }
   ],
   "source": [
    "validateMatrix(matrix)"
   ]
  },
  {
   "cell_type": "markdown",
   "metadata": {},
   "source": [
    "## 4. Python object"
   ]
  },
  {
   "cell_type": "code",
   "execution_count": 8,
   "metadata": {},
   "outputs": [],
   "source": [
    "class Matrix:\n",
    "    def __init__(self, row=4, col=6):\n",
    "        # generated matrix will be stored into self.matrix\n",
    "        self.matrix = self.get_matrix(row, col)\n",
    "    \n",
    "    # take input from user to create a matrix\n",
    "    def get_matrix(self, row, col):\n",
    "        matrix = [[int(input()) for j in range(col)] for i in range(row)]\n",
    "        return matrix\n",
    "    \n",
    "    # create a function named validateMatrix to confirm the size and the values of same type\n",
    "    def validateMatrix(self, ncol=6, nrow=4, num=True):\n",
    "        # assign row and column value of the given matrix\n",
    "        row, col = len(self.matrix), len(self.matrix[0])\n",
    "\n",
    "        # check the size\n",
    "        if row == nrow and col == ncol:  \n",
    "            print(\"Matrix size is OK.\")\n",
    "        else:\n",
    "            print(\"Matrix size is not OK.\")\n",
    "            \n",
    "        # check the type of all values\n",
    "        # if all values are numbers, all() will return True\n",
    "        if all([isinstance(c, (int, float)) for r in self.matrix for c in r]) == num:\n",
    "            print(\"All Matrix values are numeric.\")\n",
    "        # if all values are characters, all() will return True\n",
    "        elif all([isinstance(c, str) for r in self.matrix for c in r]):\n",
    "            print(\"All Matrix values are characters.\")\n",
    "        else:\n",
    "            print(\"Matrix contains different types of values.\")"
   ]
  },
  {
   "cell_type": "code",
   "execution_count": 9,
   "metadata": {},
   "outputs": [
    {
     "name": "stdout",
     "output_type": "stream",
     "text": [
      "1\n",
      "2\n",
      "3\n",
      "4\n",
      "5\n",
      "6\n",
      "7\n",
      "8\n",
      "9\n",
      "10\n",
      "11\n",
      "12\n",
      "13\n",
      "14\n",
      "15\n",
      "16\n",
      "17\n",
      "18\n",
      "19\n",
      "20\n",
      "21\n",
      "22\n",
      "23\n",
      "24\n",
      "Matrix size is OK.\n",
      "All Matrix values are numeric.\n"
     ]
    }
   ],
   "source": [
    "# creating and initializing python object of Matrix class\n",
    "py_object = Matrix(4, 6) # Matrix(row, column)\n",
    "\n",
    "# calling validateMatrix method with the object\n",
    "py_object.validateMatrix()\n"
   ]
  },
  {
   "cell_type": "code",
   "execution_count": null,
   "metadata": {},
   "outputs": [],
   "source": []
  },
  {
   "cell_type": "markdown",
   "metadata": {},
   "source": [
    "## 5. Creating command line python script"
   ]
  },
  {
   "cell_type": "markdown",
   "metadata": {},
   "source": [
    "### 5(a)"
   ]
  },
  {
   "cell_type": "code",
   "execution_count": 10,
   "metadata": {},
   "outputs": [],
   "source": [
    "# The test commands are not executed when importing the module but rather executed when on the command line, \n",
    "# if test commands is included inside a if block with condition (__name__ == \"__main__\"). i.e.\n",
    "\n",
    "if __name__ == \"__main__\":\n",
    "    # test commands etc\n",
    "    pass"
   ]
  },
  {
   "cell_type": "code",
   "execution_count": 11,
   "metadata": {},
   "outputs": [],
   "source": [
    "# If I run myfavscripts.py directly with \"python myfavscripts.py\",\n",
    "# the interpreter will assign the string \"__main__\" to the __name__ variable.\n",
    "# If I import myfavscripts.py into another program as \"import myfavscripts\",\n",
    "# the interpreter will assign the name \"myfavscripts\" from the import statement to the __name__ variable."
   ]
  },
  {
   "cell_type": "markdown",
   "metadata": {},
   "source": [
    "### 5(b)"
   ]
  },
  {
   "cell_type": "code",
   "execution_count": 12,
   "metadata": {},
   "outputs": [],
   "source": [
    "# importing len function from myfavscripts module named as myl\n",
    "from myfavscripts import len as myl"
   ]
  },
  {
   "cell_type": "code",
   "execution_count": 13,
   "metadata": {},
   "outputs": [
    {
     "name": "stdout",
     "output_type": "stream",
     "text": [
      "Length = 44\n"
     ]
    }
   ],
   "source": [
    "# calling the len function as myl\n",
    "string = \"Python is a high level programming language.\"\n",
    "print(\"Length =\", myl(string))"
   ]
  },
  {
   "cell_type": "markdown",
   "metadata": {},
   "source": [
    "# Part 2"
   ]
  },
  {
   "cell_type": "markdown",
   "metadata": {},
   "source": [
    "## GFF parser"
   ]
  },
  {
   "cell_type": "code",
   "execution_count": 14,
   "metadata": {},
   "outputs": [],
   "source": [
    "# An example to run gffparser.py file on terminal\n",
    "# python gffparser.py -i TAIR10_GFF3_genes.gff -c Chr1 -s 0 -e 100000000 -o output.tx"
   ]
  },
  {
   "cell_type": "code",
   "execution_count": 15,
   "metadata": {},
   "outputs": [],
   "source": [
    "# you may omit one or more command line options\n",
    "# i.e. python gffparser.py -i TAIR10_GFF3_genes.gff -o output.tx"
   ]
  },
  {
   "cell_type": "code",
   "execution_count": null,
   "metadata": {},
   "outputs": [],
   "source": []
  },
  {
   "cell_type": "code",
   "execution_count": null,
   "metadata": {},
   "outputs": [],
   "source": []
  }
 ],
 "metadata": {
  "kernelspec": {
   "display_name": "Python 3 (ipykernel)",
   "language": "python",
   "name": "python3"
  },
  "language_info": {
   "codemirror_mode": {
    "name": "ipython",
    "version": 3
   },
   "file_extension": ".py",
   "mimetype": "text/x-python",
   "name": "python",
   "nbconvert_exporter": "python",
   "pygments_lexer": "ipython3",
   "version": "3.12.7"
  }
 },
 "nbformat": 4,
 "nbformat_minor": 4
}

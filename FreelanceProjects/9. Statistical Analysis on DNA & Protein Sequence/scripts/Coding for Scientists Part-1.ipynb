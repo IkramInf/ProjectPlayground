{
 "cells": [
  {
   "cell_type": "code",
   "execution_count": 1,
   "metadata": {},
   "outputs": [],
   "source": [
    "# Please put all your import statements here, according to the example. Include a comment with the name of \n",
    "# the library and its version. Do not include import statements in the rest of the code\n",
    "\n",
    "# Example:\n",
    "# Biopython v 1.78\n",
    "import Bio # this would obviously be uncommented if you are importing Biopython\n",
    "from Bio import SeqIO\n",
    "from Bio.Seq import Seq\n",
    "import re"
   ]
  },
  {
   "cell_type": "markdown",
   "metadata": {},
   "source": [
    "# Question 1: Primers and melting temperature"
   ]
  },
  {
   "cell_type": "markdown",
   "metadata": {},
   "source": [
    "### Question 1.a: Reading a DNA sequence from a file\n",
    "\n",
    "Write a python function called ```readDNAsequence``` that takes as its argument the name of a file.  When passed the name of a FASTA file, the function should read the file, discard the header and return the sequence as a string. Your code should raise ```BadSequenceException``` (defined below) if the sequence part of the file contains characters that are not one of the letters A, C, T, G, U. All U nucleotides should be replaced by T in the returned string (for simplicity, we will be working with T only throughout the rest of this assignment)."
   ]
  },
  {
   "cell_type": "code",
   "execution_count": 2,
   "metadata": {},
   "outputs": [],
   "source": [
    "# Run this cell to define the exception\n",
    "class BadSequenceException(Exception):\n",
    "    \n",
    "    pass"
   ]
  },
  {
   "cell_type": "code",
   "execution_count": 3,
   "metadata": {},
   "outputs": [],
   "source": [
    "# Your code here\n",
    "def readDNAsequence(filename):\n",
    "    try:\n",
    "        for record in SeqIO.parse(filename, \"fasta\"):\n",
    "            # replace all 'U' with 'T' if any\n",
    "            sequence = str(record.seq).replace(\"U\", \"T\")\n",
    "            # sequence must contain A, C, G, T\n",
    "            nucleotides = {'A', 'C', 'G', 'T'}\n",
    "            # create set with unique bases of the sequence\n",
    "            unique_bases = set(sequence)\n",
    "            # to find out if other bases without A, C, G, T\n",
    "            different = unique_bases.difference(nucleotides)\n",
    "            # if base without A, C, G, T, raise exception\n",
    "            if different:\n",
    "                raise BadSequenceException\n",
    "            else:\n",
    "                return sequence\n",
    "    except BadSequenceException:\n",
    "        print(f\"Sequence contains {different}, which are not one of the letters A, C, G, T, U.\")\n",
    "        return \"Invalid Sequence!\""
   ]
  },
  {
   "cell_type": "code",
   "execution_count": 4,
   "metadata": {},
   "outputs": [
    {
     "name": "stdout",
     "output_type": "stream",
     "text": [
      "Sequence contains {'N', 'X', 'Q'}, which are not one of the letters A, C, G, T, U.\n"
     ]
    }
   ],
   "source": [
    "seq = readDNAsequence('BADexample.fasta')"
   ]
  },
  {
   "cell_type": "code",
   "execution_count": 5,
   "metadata": {},
   "outputs": [
    {
     "name": "stdout",
     "output_type": "stream",
     "text": [
      "Invalid Sequence!\n"
     ]
    }
   ],
   "source": [
    "print(seq)"
   ]
  },
  {
   "cell_type": "code",
   "execution_count": 6,
   "metadata": {},
   "outputs": [],
   "source": [
    "s10 = \"GAAGATCTCAGGCAGTGACCCTCTAGATGGAAGCACTGTCTGTTGTCTAAGAAAAGATCGTGCATCCTTTTAGAGTGTTACTGTTTGAGAAAATC\""
   ]
  },
  {
   "cell_type": "code",
   "execution_count": 7,
   "metadata": {},
   "outputs": [
    {
     "name": "stdout",
     "output_type": "stream",
     "text": [
      "OK\n"
     ]
    }
   ],
   "source": [
    "# Test code\n",
    "import os\n",
    "with open(\"test9876345.fas\", \"wt\") as _OUTF:\n",
    "    _OUTF.write(\"> test\\n\")\n",
    "    _OUTF.write(\"ACTG\\n\")\n",
    "_seq=readDNAsequence(\"test9876345.fas\")\n",
    "assert type(_seq) is type(\"\"), \"Return value is not a string: %r\" % _seq\n",
    "os.remove(\"test9876345.fas\")\n",
    "print(\"OK\")"
   ]
  },
  {
   "cell_type": "markdown",
   "metadata": {},
   "source": [
    "### Question 1.b: Computing the complement of a sequence"
   ]
  },
  {
   "cell_type": "markdown",
   "metadata": {},
   "source": [
    "Write a function called ```complement``` that takes a string containing a DNA sequence as its only  parameter and returns the complement of the sequence in a string. The function should raise ```BadSequenceException``` if the argument sequence contains anything else than the four characters A, C, T, G. Do not reverse the string; for the avoidance of doubt, if the input string starts with A then the complement string should start with T.\n"
   ]
  },
  {
   "cell_type": "code",
   "execution_count": 8,
   "metadata": {},
   "outputs": [],
   "source": [
    "# Your code here\n",
    "def complement(dna):\n",
    "    # create dictionary with base : complement pair\n",
    "    complement_pair = {'A': 'T', 'C': 'G', 'G': 'C', 'T': 'A'}\n",
    "    try:\n",
    "        nucleotides = {'A', 'C', 'G', 'T'}\n",
    "        different = set(dna).difference(nucleotides)\n",
    "        if different:\n",
    "            raise BadSequenceException\n",
    "        else:\n",
    "            # return complement sequence\n",
    "            return \"\".join(complement_pair.get(base) for base in dna)\n",
    "    \n",
    "    except BadSequenceException:\n",
    "        print(f\"Sequence contains {different}, which are not one of the letters A, C, G, T.\")\n",
    "        return \"Invalid Sequence!\""
   ]
  },
  {
   "cell_type": "code",
   "execution_count": 9,
   "metadata": {},
   "outputs": [
    {
     "name": "stdout",
     "output_type": "stream",
     "text": [
      "Sequence contains {'N'}, which are not one of the letters A, C, G, T.\n",
      "OK\n"
     ]
    }
   ],
   "source": [
    "# Test code\n",
    "_seq=complement(\"ACGTTTCGN\")\n",
    "assert type(_seq) is type(\"\"), \"Return value is not a string: %r\" % _seq\n",
    "print(\"OK\")"
   ]
  },
  {
   "cell_type": "markdown",
   "metadata": {},
   "source": [
    "### Question 1.c: Extracting primers"
   ]
  },
  {
   "cell_type": "markdown",
   "metadata": {
    "collapsed": true,
    "jupyter": {
     "outputs_hidden": true
    }
   },
   "source": [
    "Write a function called ```primer``` that takes three parameters: a DNA sequence called ```sequence```, an integer ```length``` that is 20 by default and a Boolean value ```forward``` that is ```True``` by default. When ```forward``` is ```True``` (or is not passed), the function should return a Forward primer for the sequence passed as ```sequence```; when it is ```False```, it should return a  Reverse primer. The length of the primer is specified by ```length```; if this is not passed, a primer of length 20 should be returned.  Refer to the Background document for a definition of primers and how to compute them (for the avoidance of doubt, if the sequence string ends with a C, then the reverse primer string should start with a G). If the sequence is shorter than ```length``` nucleotides, your code should raise a ```BadSequenceException```.\n"
   ]
  },
  {
   "cell_type": "code",
   "execution_count": 10,
   "metadata": {},
   "outputs": [],
   "source": [
    "# Your code here\n",
    "def primer(sequence, length=20, forward=True):\n",
    "    try:\n",
    "        # if the sequence size is shorter than given length, raise exception\n",
    "        if len(sequence) < length:\n",
    "            raise BadSequenceException\n",
    "        else:\n",
    "            # if forward = True, execute this\n",
    "            if forward:\n",
    "                # return first length nucleotides\n",
    "                return sequence[0:length]\n",
    "            else:\n",
    "                # return first length nucleotides of reverse strand\n",
    "                return str(Seq(sequence).reverse_complement()[0:length])\n",
    "            \n",
    "    except BadSequenceException:\n",
    "        print(f\"Sequence length {len(sequence)} is shorter than given length.\")\n",
    "        return \"Invalid Sequence!\"\n",
    "    \n"
   ]
  },
  {
   "cell_type": "code",
   "execution_count": 11,
   "metadata": {},
   "outputs": [
    {
     "name": "stdout",
     "output_type": "stream",
     "text": [
      "OK\n"
     ]
    }
   ],
   "source": [
    "# Test code\n",
    "_seq=primer(sequence=\"AAAAATTTTTCCCCCGGGGGAAAAA\", length= 20, forward=False)\n",
    "assert type(_seq) is type(\"\"), \"Return value is not a string: %r\" % _seq\n",
    "print(\"OK\")"
   ]
  },
  {
   "cell_type": "markdown",
   "metadata": {},
   "source": [
    "### Question 1.d: Computing the melting temperature"
   ]
  },
  {
   "cell_type": "markdown",
   "metadata": {},
   "source": [
    "Write a function called ```meltingTemp``` that takes a string representing a primer as its argument. The function should return the melting temperature of the primer in degrees Celsius according to the equation given in the Background document. If the sequence contains characters other than A, C, T, G, the function should raise a ```BadSequenceException```."
   ]
  },
  {
   "cell_type": "code",
   "execution_count": 12,
   "metadata": {},
   "outputs": [],
   "source": [
    "# Your code here\n",
    "def meltingTemp(primer_seq):\n",
    "    try:\n",
    "        nucleotides = {'A', 'C', 'G', 'T'}\n",
    "        different = set(primer_seq).difference(nucleotides)\n",
    "        if different:\n",
    "            raise BadSequenceException\n",
    "        else:\n",
    "            A, T = primer_seq.count(\"A\"), primer_seq.count(\"T\")\n",
    "            G, C = primer_seq.count(\"G\"), primer_seq.count(\"C\")\n",
    "            Tm = 4*(G + C) + 2*(A + T)\n",
    "            return Tm\n",
    "    \n",
    "    except BadSequenceException:\n",
    "        print(f\"Sequence contains {different}, which are not one of the letters A, C, G, T.\")\n",
    "        return 0"
   ]
  },
  {
   "cell_type": "code",
   "execution_count": 13,
   "metadata": {},
   "outputs": [
    {
     "name": "stdout",
     "output_type": "stream",
     "text": [
      "OK\n"
     ]
    }
   ],
   "source": [
    "# Test code\n",
    "_temp=meltingTemp(\"AAAAATTTTTCCCCCGGGGG\")\n",
    "assert ((type(_temp) is type(0.0)) or\n",
    "        (type(_temp) is type(0))), \"Return value is not a number: %r\" % _temp\n",
    "print(\"OK\")"
   ]
  },
  {
   "cell_type": "markdown",
   "metadata": {},
   "source": [
    "### Question 1.e: Putting it all together\n",
    "\n",
    "Write a function called ```sequencePCRtemp``` that takes a string containing the name of a FASTA file as its argument. The function should return the average melting temperature of the two primers of the sequence as a ```float```."
   ]
  },
  {
   "cell_type": "code",
   "execution_count": 14,
   "metadata": {},
   "outputs": [],
   "source": [
    "# Your code here\n",
    "def sequencePCRtemp(filename):\n",
    "    # read fasta file with readDNAsequence function\n",
    "    seq = readDNAsequence(filename)\n",
    "    # complement the seq\n",
    "    complement_seq = complement(seq)\n",
    "    # find out primer for seq as well as complement_seq\n",
    "    primer_seq = primer(seq)\n",
    "    primer_complement_seq = primer(complement_seq)\n",
    "    # calculate melting temperature\n",
    "    Tm_seq = meltingTemp(primer_seq)\n",
    "    Tm_complement_seq = meltingTemp(primer_complement_seq)\n",
    "    # calculate average melting temperature\n",
    "    avg_Tm = (Tm_seq + Tm_complement_seq)/2.0\n",
    "    return avg_Tm"
   ]
  },
  {
   "cell_type": "code",
   "execution_count": 15,
   "metadata": {},
   "outputs": [
    {
     "name": "stdout",
     "output_type": "stream",
     "text": [
      "Sequence contains {'N', 'X', 'Q'}, which are not one of the letters A, C, G, T, U.\n",
      "Sequence contains {'n', 'v', 'q', 'u', 'a', '!', 'e', 'S', 'l', ' ', 'c', 'i', 'I', 'd'}, which are not one of the letters A, C, G, T.\n",
      "Sequence length 17 is shorter than given length.\n",
      "Sequence length 17 is shorter than given length.\n",
      "Sequence contains {'n', 'v', 'q', 'u', 'a', '!', 'e', 'S', 'l', ' ', 'c', 'i', 'I', 'd'}, which are not one of the letters A, C, G, T.\n",
      "Sequence contains {'n', 'v', 'q', 'u', 'a', '!', 'e', 'S', 'l', ' ', 'c', 'i', 'I', 'd'}, which are not one of the letters A, C, G, T.\n"
     ]
    },
    {
     "data": {
      "text/plain": [
       "0.0"
      ]
     },
     "execution_count": 15,
     "metadata": {},
     "output_type": "execute_result"
    }
   ],
   "source": [
    "sequencePCRtemp(\"BADexample.fasta\")"
   ]
  },
  {
   "cell_type": "code",
   "execution_count": 16,
   "metadata": {},
   "outputs": [
    {
     "name": "stdout",
     "output_type": "stream",
     "text": [
      "OK\n"
     ]
    }
   ],
   "source": [
    "# Test code\n",
    "import os\n",
    "with open(\"test9876346.fas\", \"wt\") as _OUTF:\n",
    "    _OUTF.write(\"> test\\n\")\n",
    "    _OUTF.write(\"AAAAACCCCCTTTTTGGGGGAAAAA\\n\")\n",
    "_temp=sequencePCRtemp(\"test9876346.fas\")\n",
    "assert type(_temp) is type(0.0), \"Return value is not a float: %r\" % _temp\n",
    "os.remove(\"test9876346.fas\")\n",
    "print(\"OK\")"
   ]
  },
  {
   "cell_type": "markdown",
   "metadata": {},
   "source": [
    "# Question 2: Translation and reading frames"
   ]
  },
  {
   "cell_type": "markdown",
   "metadata": {},
   "source": [
    "### Question 2.a: Reading frames\n",
    "Write a function ```translate``` that takes a string containing a DNA sequence as its input and outputs a Python dictionary containing the translation of the sequence in all possible reading frames. The keys of the dictionary should be ```f1```, ```f2```, ```f3``` for the three forward frames and ```r1```, ```r2``` and ```r3``` for the reverse reading frames; the value of each key should be the translation of the sequence in the corresponding frame.\n",
    "For simplicity and ease of debugging, **do not complement the sequence** when computing the reverse reading frames; just reverse it. Use an asterisk (```*```) to represent stop codons. Always translate the entire sequence."
   ]
  },
  {
   "cell_type": "code",
   "execution_count": 17,
   "metadata": {},
   "outputs": [],
   "source": [
    "# Your code here\n",
    "def translate(sequence):\n",
    "    # dictionary of codon : amino acid pair\n",
    "    table = {\n",
    "        'ATA':'I', 'ATC':'I', 'ATT':'I', 'ATG':'M',\n",
    "        'ACA':'T', 'ACC':'T', 'ACG':'T', 'ACT':'T',\n",
    "        'AAC':'N', 'AAT':'N', 'AAA':'K', 'AAG':'K',\n",
    "        'AGC':'S', 'AGT':'S', 'AGA':'R', 'AGG':'R',                 \n",
    "        'CTA':'L', 'CTC':'L', 'CTG':'L', 'CTT':'L',\n",
    "        'CCA':'P', 'CCC':'P', 'CCG':'P', 'CCT':'P',\n",
    "        'CAC':'H', 'CAT':'H', 'CAA':'Q', 'CAG':'Q',\n",
    "        'CGA':'R', 'CGC':'R', 'CGG':'R', 'CGT':'R',\n",
    "        'GTA':'V', 'GTC':'V', 'GTG':'V', 'GTT':'V',\n",
    "        'GCA':'A', 'GCC':'A', 'GCG':'A', 'GCT':'A',\n",
    "        'GAC':'D', 'GAT':'D', 'GAA':'E', 'GAG':'E',\n",
    "        'GGA':'G', 'GGC':'G', 'GGG':'G', 'GGT':'G',\n",
    "        'TCA':'S', 'TCC':'S', 'TCG':'S', 'TCT':'S',\n",
    "        'TTC':'F', 'TTT':'F', 'TTA':'L', 'TTG':'L',\n",
    "        'TAC':'Y', 'TAT':'Y', 'TAA':'*', 'TAG':'*',\n",
    "        'TGC':'C', 'TGT':'C', 'TGA':'*', 'TGG':'W' }\n",
    "    \n",
    "    # create a dictionary to store proteins\n",
    "    proteins = {}\n",
    "    \n",
    "    # for iterating over forward sequence, frame: f1, f2, f3\n",
    "    for frame in range(3):\n",
    "        # make the sequence length as multiple of 3\n",
    "        # if sequence length = 25 and frame = 0 then, 25-0=25, 25//3=8 and finally length=3*8\n",
    "        length = 3 * ((len(sequence)-frame) // 3)\n",
    "        # take the part of sequence to perform translation\n",
    "        seq = sequence[frame:frame+length]\n",
    "        #proteins[\"f\"+str(frame+1)] = \"\".join([table[seq[i:i + 3]] for i in range(0, len(seq), 3)])\n",
    "        \n",
    "        \n",
    "        # for your understanding\n",
    "        amino_acid = []\n",
    "        # take a codon each time and convert it into amino acid\n",
    "        for i in range(0, len(seq), 3):\n",
    "            # take amino acid of corresponding codon from the above codon table\n",
    "            amino_acid.append(table[seq[i:i + 3]])\n",
    "        \n",
    "        # join each amino acid to make string\n",
    "        protein = \"\".join(amino_acid)\n",
    "        # add this protein to proteins dictionary\n",
    "        proteins[\"f\"+str(frame+1)] = protein    \n",
    "        # end here\n",
    "        \n",
    "        \n",
    "    \n",
    "    # reverse the sequence\n",
    "    rev_seq = sequence[::-1]\n",
    "    \n",
    "    # for iterating over reverse sequence\n",
    "    for frame in range(3):\n",
    "        length = 3 * ((len(rev_seq)-frame) // 3) # Multiple of three\n",
    "        rev_seq_framed = rev_seq[frame:frame+length]\n",
    "        proteins[\"r\"+str(frame+1)] = \"\".join([table[rev_seq_framed[j:j + 3]] \\\n",
    "                                              for j in range(0, len(rev_seq_framed), 3)])\n",
    "        \n",
    "    return proteins       "
   ]
  },
  {
   "cell_type": "code",
   "execution_count": 18,
   "metadata": {},
   "outputs": [
    {
     "data": {
      "text/plain": [
       "{'f1': 'EDLRQ*PSRWKHCLLSKKRSCILLECYCLRK',\n",
       " 'f2': 'KISGSDPLDGSTVCCLRKDRASF*SVTV*EN',\n",
       " 'f3': 'RSQAVTL*MEALSVV*EKIVHPFRVLLFEKI',\n",
       " 'r1': 'LKEFVIVRFSYVLEKNLLSVTKVDLPVTDSR',\n",
       " 'r2': '*KSLSL*DFPTC*KRICCLSRR*ISQ*RTLE',\n",
       " 'r3': 'KRVCHCEIFLRARKESVVCHEGRSPSDGL*K'}"
      ]
     },
     "execution_count": 18,
     "metadata": {},
     "output_type": "execute_result"
    }
   ],
   "source": [
    "translate(s10)"
   ]
  },
  {
   "cell_type": "code",
   "execution_count": null,
   "metadata": {},
   "outputs": [],
   "source": []
  },
  {
   "cell_type": "code",
   "execution_count": 19,
   "metadata": {},
   "outputs": [
    {
     "name": "stdout",
     "output_type": "stream",
     "text": [
      "OK\n"
     ]
    }
   ],
   "source": [
    "# Test code\n",
    "_seqdic=translate(\"ACTGACTGACTGACTGACTGACTG\")\n",
    "assert type(_seqdic)==type(dict()), \"Return value is not a dictionary: %r\" % _seqdic\n",
    "assert set(_seqdic.keys())==set(['f1', 'f2', 'f3', 'r1', 'r2', 'r3']), \\\n",
    "    \"Output dictionary has incorrect/missing keys: %r\"  % _seqdic.keys()\n",
    "assert type(_seqdic['f1'])==type(\"\"), \\\n",
    "    \"Output dictionary values should be strings, not %r\" % type(_seqdic['f1'])\n",
    "print(\"OK\")"
   ]
  },
  {
   "cell_type": "markdown",
   "metadata": {},
   "source": [
    "### Question 2.b: Locating an ORF\n",
    "\n",
    "Write a function called ```openReadingFrame``` that takes a string containing an aminoacid sequence as its argument and returns a string containing the aminoacids between the first Methionine (included) and the first STOP codon that follows it (excluded). Assume the stop codon is represented by an asterisk (```*```) as would be returned by ```translate``` above. If either the Methionine or the STOP codon are missing, your function should return an empty string."
   ]
  },
  {
   "cell_type": "code",
   "execution_count": 20,
   "metadata": {},
   "outputs": [],
   "source": [
    "# Your code here\n",
    "def openReadingFrame(sequence):\n",
    "    # to find out orf between M and *\n",
    "    pattern = \"(M.*?)(?:\\*)\"\n",
    "    orf = re.findall(pattern, sequence)\n",
    "    # if orf is not empty return orf\n",
    "    if orf:\n",
    "        return orf[0]\n",
    "    # if orf is empty return empty string\n",
    "    else:\n",
    "        return \"\"\n"
   ]
  },
  {
   "cell_type": "code",
   "execution_count": 21,
   "metadata": {},
   "outputs": [],
   "source": [
    "s11 = 'EDLRQ*PSRWKHCLLSKKRSCILLECYCLRK'"
   ]
  },
  {
   "cell_type": "code",
   "execution_count": 22,
   "metadata": {},
   "outputs": [
    {
     "name": "stdout",
     "output_type": "stream",
     "text": [
      "OK\n"
     ]
    }
   ],
   "source": [
    "# Test code\n",
    "_seq=openReadingFrame(\"AMCAPP*L\")\n",
    "assert type(_seq) is type(\"\"), \"Return value is not a string: %r\" % _seq\n",
    "print(\"OK\")"
   ]
  },
  {
   "cell_type": "markdown",
   "metadata": {},
   "source": [
    "### Question 2.c: Translating a sequence\n",
    "\n",
    "Write a function called ```candidateProtein``` that takes a string containing a DNA sequence as its input and outputs the string of aminoacids corresponding to the longest ORF, as extracted by ```openReadingFrame``` above."
   ]
  },
  {
   "cell_type": "code",
   "execution_count": 23,
   "metadata": {},
   "outputs": [],
   "source": [
    "def candidateProtein(dna):\n",
    "    # find out protein in all reading frames\n",
    "    proteins = translate(dna)\n",
    "    #print(proteins)\n",
    "    # extract orf from all proteins\n",
    "    ORFs = [openReadingFrame(protein) for frame, protein in proteins.items()]\n",
    "    #print(ORFs)\n",
    "    # find out the longest orf\n",
    "    longest_orf = max(ORFs, key=len)\n",
    "    #print(longest_orf)\n",
    "    # find out the protein corresponding to the longest orf\n",
    "    for prot in list(proteins.values()):\n",
    "        if longest_orf in prot:\n",
    "            return prot\n",
    "            break   "
   ]
  },
  {
   "cell_type": "code",
   "execution_count": 24,
   "metadata": {},
   "outputs": [
    {
     "data": {
      "text/plain": [
       "'RSQAVTL*MEALSVV*EKIVHPFRVLLFEKI'"
      ]
     },
     "execution_count": 24,
     "metadata": {},
     "output_type": "execute_result"
    }
   ],
   "source": [
    "candidateProtein(s10)"
   ]
  },
  {
   "cell_type": "code",
   "execution_count": null,
   "metadata": {},
   "outputs": [],
   "source": []
  },
  {
   "cell_type": "code",
   "execution_count": 25,
   "metadata": {},
   "outputs": [
    {
     "name": "stdout",
     "output_type": "stream",
     "text": [
      "OK\n"
     ]
    }
   ],
   "source": [
    "# Test code\n",
    "_seq=candidateProtein(\"ATGACTGCTGGGTAG\")\n",
    "assert type(_seq) is type(\"\"), \"Return value is not a string: %r\" % _seq\n",
    "print(\"OK\")"
   ]
  },
  {
   "cell_type": "markdown",
   "metadata": {},
   "source": [
    "### Question 2.d: Writing a FASTA file\n",
    "\n",
    "Write a function called ```writeFASTA``` that takes three string arguments called, in the order, ```sequence```, ```description``` and ```filename```. Argument ```sequence``` should contain an aminoacid sequence. Argument ```description``` should contain a description (eg name of protein, organism, etc). Argument ```filename``` should contain a file name. Your code should create the file with the name requested, write to  it the description as a FASTA header (i.e. starting with the character ```>```) and write the sequence to the file. Long sequences should be formatted over several lines. The function should not return any value."
   ]
  },
  {
   "cell_type": "code",
   "execution_count": 26,
   "metadata": {},
   "outputs": [],
   "source": [
    "# Your code here\n",
    "def writeFASTA(sequence, description, filename):\n",
    "    # sequence length\n",
    "    L = len(sequence)\n",
    "    # open a file with given filename as write mode\n",
    "    with open(filename, \"w\") as f:\n",
    "        # write description with '>' before it\n",
    "        f.write(f\">{description}\\n\")\n",
    "        \n",
    "        # format sequence as 80 bases per line\n",
    "        for i in range(0, L, 80):\n",
    "            if (i+80) < L:\n",
    "                f.write(f\"{sequence[i:i+80]}\\n\")\n",
    "            else:\n",
    "                f.write(f\"{sequence[i:]}\\n\")\n"
   ]
  },
  {
   "cell_type": "code",
   "execution_count": 27,
   "metadata": {},
   "outputs": [],
   "source": [
    "writeFASTA(s10, \"dna seq\", \"seq.fasta\")"
   ]
  },
  {
   "cell_type": "code",
   "execution_count": 28,
   "metadata": {},
   "outputs": [
    {
     "name": "stdout",
     "output_type": "stream",
     "text": [
      "OK\n"
     ]
    }
   ],
   "source": [
    "# Test code\n",
    "import os\n",
    "import os.path\n",
    "_rv=writeFASTA(sequence=\"TESTTESTTESTTESTTEST\",\n",
    "              description=\"test sequence\",\n",
    "              filename=\"test9876347.fas\")\n",
    "assert type(_rv) is type(None), \"Function should not return anything; it returns %r\" % _rv\n",
    "_fe=os.path.isfile(\"test9876347.fas\")\n",
    "assert _fe, \"Cannot find output file - has it been created?\"\n",
    "os.remove(\"test9876347.fas\")\n",
    "print(\"OK\")"
   ]
  },
  {
   "cell_type": "markdown",
   "metadata": {},
   "source": [
    "### Question 2.e: Putting it all together\n",
    "\n",
    "\n",
    "Write a function called ```maximalORF``` that takes as its argument string ```inputfile``` containing the name of an input file, string ```outputfile``` with the name of an output file and string  ```proteinname``` with a description of a candidate protein. The function should read a DNA sequence from the input file and write the candidate protein corresponding to the longest ORF to the output file, in FASTA format. The string supplied in ```proteinname``` should provide the header of the FASTA file. The function should not return any value."
   ]
  },
  {
   "cell_type": "code",
   "execution_count": 29,
   "metadata": {},
   "outputs": [],
   "source": [
    "# Your code here\n",
    "def maximalORF(inputfile, outputfile, proteinname):\n",
    "    # read a sequence from input filename\n",
    "    seq = readDNAsequence(inputfile)\n",
    "    # find out the protein corresponding to the longest orf\n",
    "    protein = candidateProtein(seq)\n",
    "    # write the protein sequence into an output file\n",
    "    writeFASTA(protein, proteinname, outputfile)"
   ]
  },
  {
   "cell_type": "code",
   "execution_count": 30,
   "metadata": {},
   "outputs": [],
   "source": [
    "maximalORF(\"example.fasta\", \"protein.fasta\", \"protein name\")"
   ]
  },
  {
   "cell_type": "code",
   "execution_count": null,
   "metadata": {},
   "outputs": [],
   "source": []
  },
  {
   "cell_type": "code",
   "execution_count": 31,
   "metadata": {},
   "outputs": [
    {
     "name": "stdout",
     "output_type": "stream",
     "text": [
      "OK\n"
     ]
    }
   ],
   "source": [
    "# Test code\n",
    "import os\n",
    "import os.path\n",
    "with open(\"test9876348.fas\", \"wt\") as _OUTF:\n",
    "    _OUTF.write(\"> test\\n\")\n",
    "    _OUTF.write(\"ATGACTGCTGGGTAG\\n\")\n",
    "_rv=maximalORF(inputfile=\"test9876348.fas\", outputfile=\"test9876349.fas\",\n",
    "               proteinname=\"test protein\")\n",
    "assert type(_rv) is type(None), \"Function should not return anything; it returns %r\" % _rv\n",
    "_fe=os.path.isfile(\"test9876349.fas\")\n",
    "assert _fe, \"Cannot find output file - has it been created?\"\n",
    "os.remove(\"test9876348.fas\")\n",
    "os.remove(\"test9876349.fas\")\n",
    "print(\"OK\")"
   ]
  },
  {
   "cell_type": "code",
   "execution_count": null,
   "metadata": {},
   "outputs": [],
   "source": []
  }
 ],
 "metadata": {
  "kernelspec": {
   "display_name": "Python 3 (ipykernel)",
   "language": "python",
   "name": "python3"
  },
  "language_info": {
   "codemirror_mode": {
    "name": "ipython",
    "version": 3
   },
   "file_extension": ".py",
   "mimetype": "text/x-python",
   "name": "python",
   "nbconvert_exporter": "python",
   "pygments_lexer": "ipython3",
   "version": "3.12.7"
  }
 },
 "nbformat": 4,
 "nbformat_minor": 4
}
